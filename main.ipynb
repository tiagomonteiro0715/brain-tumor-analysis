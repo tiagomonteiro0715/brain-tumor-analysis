{
 "cells": [
  {
   "cell_type": "markdown",
   "id": "original-concept",
   "metadata": {},
   "source": [
    "https://ai.plainenglish.io/detecting-brain-tumors-from-mri-scans-using-a-cnn-ae3c2913bde7\n",
    "\n",
    "https://medium.com/swlh/an-overview-on-convolutional-neural-networks-ea48e76fb186\n",
    "\n",
    "link with dataset: https://www.kaggle.com/sartajbhuvaji/brain-tumor-classification-mri\n",
    "\n",
    "base code exaple to improve upon\n",
    "\n",
    "ver livro de programação sobre assunto\n",
    "\n",
    "escrever artigo disto para freecodecamp/video explining evertinhg in youtube channel\n",
    "add this to keras docs\n",
    "\n",
    "partilhar projetos na conta de linkedin e instagram"
   ]
  },
  {
   "cell_type": "code",
   "execution_count": 4,
   "id": "frank-carolina",
   "metadata": {},
   "outputs": [
    {
     "name": "stdout",
     "output_type": "stream",
     "text": [
      "INFO:tensorflow:Enabling eager execution\n",
      "INFO:tensorflow:Enabling v2 tensorshape\n",
      "INFO:tensorflow:Enabling resource variables\n",
      "INFO:tensorflow:Enabling tensor equality\n",
      "INFO:tensorflow:Enabling control flow v2\n"
     ]
    }
   ],
   "source": [
    "import tensorflow as tf\n",
    "from tensorflow.keras.models import Sequential\n",
    "from tensorflow.keras.layers import Dense, Flatten, Dropout, Conv2D, MaxPooling2D\n",
    "from tensorflow.keras.preprocessing.image import ImageDataGenerator\n",
    "import matplotlib.pyplot as plt"
   ]
  },
  {
   "cell_type": "code",
   "execution_count": 5,
   "id": "photographic-paste",
   "metadata": {},
   "outputs": [],
   "source": [
    "\n",
    "train_path = '/data/Training'\n",
    "test_path = '/data/Testing'\n",
    "\n",
    "BATCH_SIZE = 10"
   ]
  },
  {
   "cell_type": "code",
   "execution_count": 6,
   "id": "technological-boring",
   "metadata": {},
   "outputs": [
    {
     "ename": "SyntaxError",
     "evalue": "unmatched ')' (<ipython-input-6-37a5f80ad25f>, line 2)",
     "output_type": "error",
     "traceback": [
      "\u001b[1;36m  File \u001b[1;32m\"<ipython-input-6-37a5f80ad25f>\"\u001b[1;36m, line \u001b[1;32m2\u001b[0m\n\u001b[1;33m    ).flow_from_directory(\u001b[0m\n\u001b[1;37m    ^\u001b[0m\n\u001b[1;31mSyntaxError\u001b[0m\u001b[1;31m:\u001b[0m unmatched ')'\n"
     ]
    }
   ],
   "source": [
    "preprocessing_function=tf.keras.applications.vgg16.preprocess_input, rescale=1/255.\n",
    ").flow_from_directory(\n",
    "    directory=train_path,\n",
    "    target_size=(224, 224),\n",
    "    classes=['glioma_tumor', 'meningioma_tumor', 'no_tumor', 'pituitary_tumor'],\n",
    "    batch_size=BATCH_SIZE,\n",
    "    class_mode='categorical'\n",
    ")\n",
    "\n",
    "test_batches = ImageDataGenerator(\n",
    "    preprocessing_function=tf.keras.applications.vgg16.preprocess_input, rescale=1/255.\n",
    ").flow_from_directory(\n",
    "    directory=test_path,\n",
    "    target_size=(224, 224),\n",
    "    classes=['glioma_tumor', 'meningioma_tumor', 'no_tumor', 'pituitary_tumor'],\n",
    "    batch_size=BATCH_SIZE,\n",
    "    class_mode='categorical',\n",
    "    shuffle=False\n",
    ")\n"
   ]
  },
  {
   "cell_type": "code",
   "execution_count": null,
   "id": "pregnant-journalism",
   "metadata": {},
   "outputs": [],
   "source": [
    "images, labels = next(train_batches)\n",
    "def plot(img):\n",
    "    fig, axes = plt.subplots(1, 10, figsize=(20,20))\n",
    "    axes = axes.flatten()\n",
    "    for imgs, ax, in zip(img, axes):\n",
    "        ax.imshow(imgs)\n",
    "        ax.axis('off')\n",
    "    plt.tight_layout()\n",
    "    plt.show()\n",
    "plot(images)\n",
    "print(labels)\n",
    "\n",
    "model = Sequential()\n",
    "model.add(Conv2D(16, (3, 3),activation=('relu'),input_shape=(224,224,3)))\n",
    "model.add(MaxPooling2D(pool_size=(2, 2)))\n"
   ]
  },
  {
   "cell_type": "code",
   "execution_count": null,
   "id": "meaning-greensboro",
   "metadata": {},
   "outputs": [],
   "source": [
    "\n",
    "model.add(Conv2D(16, (3, 3),activation=('relu'))) #extra\n",
    "model.add(MaxPooling2D(pool_size=(2, 2))) #extra\n",
    "\n",
    "\n",
    "model.add(Conv2D(16, (3, 3),activation=('relu')))\n",
    "model.add(MaxPooling2D(pool_size=(2, 2)))\n",
    "model.add(Dropout(0.2))\n",
    "\n",
    "model.add(Flatten())\n",
    "model.add(Dense(1000,activation=('relu')))\n",
    "model.add(Dropout(0.2))\n",
    "model.add(Dense(1000,activation=('relu')))\n",
    "model.add(Dropout(0.2))\n",
    "model.add(Dense(4,activation=('softmax')))\n",
    "\n",
    "model.compile(loss='categorical_crossentropy',optimizer='adam',metrics=['accuracy'])\n",
    "model.fit(test_batches, epochs=13)"
   ]
  },
  {
   "cell_type": "markdown",
   "id": "separate-maryland",
   "metadata": {},
   "source": [
    "understand code and predicy model and do more"
   ]
  }
 ],
 "metadata": {
  "kernelspec": {
   "display_name": "Python (brain-scan)",
   "language": "python",
   "name": "brain-tumor_project-l2cumszp"
  },
  "language_info": {
   "codemirror_mode": {
    "name": "ipython",
    "version": 3
   },
   "file_extension": ".py",
   "mimetype": "text/x-python",
   "name": "python",
   "nbconvert_exporter": "python",
   "pygments_lexer": "ipython3",
   "version": "3.9.2"
  }
 },
 "nbformat": 4,
 "nbformat_minor": 5
}
